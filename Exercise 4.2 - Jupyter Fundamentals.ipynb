{
 "cells": [
  {
   "cell_type": "code",
   "execution_count": 2,
   "id": "04625fe5-20af-4872-9707-500ed6fb8c67",
   "metadata": {},
   "outputs": [],
   "source": [
    "# Import libraries\n",
    "import pandas as pd\n",
    "import numpy as np\n",
    "import os"
   ]
  },
  {
   "cell_type": "markdown",
   "id": "4bc8ff08-7e66-42b9-8f6d-113a256d1347",
   "metadata": {},
   "source": [
    "Python data types"
   ]
  },
  {
   "cell_type": "code",
   "execution_count": 8,
   "id": "0a479caa-5ebf-4ac8-bdeb-ab2d6eefdebd",
   "metadata": {},
   "outputs": [
    {
     "data": {
      "text/plain": [
       "80"
      ]
     },
     "execution_count": 8,
     "metadata": {},
     "output_type": "execute_result"
    }
   ],
   "source": [
    "x"
   ]
  },
  {
   "cell_type": "code",
   "execution_count": 9,
   "id": "2b378d3b-1304-4d29-911d-b192a59b9885",
   "metadata": {},
   "outputs": [
    {
     "data": {
      "text/plain": [
       "5"
      ]
     },
     "execution_count": 9,
     "metadata": {},
     "output_type": "execute_result"
    }
   ],
   "source": [
    "y"
   ]
  },
  {
   "cell_type": "code",
   "execution_count": 11,
   "id": "f9c8eee7-2a5e-4fd2-a368-fcdba4ace853",
   "metadata": {},
   "outputs": [],
   "source": [
    "w = 20"
   ]
  },
  {
   "cell_type": "code",
   "execution_count": 12,
   "id": "d84017dd-01b8-41f4-860d-51d915d0899d",
   "metadata": {},
   "outputs": [
    {
     "data": {
      "text/plain": [
       "100"
      ]
     },
     "execution_count": 12,
     "metadata": {},
     "output_type": "execute_result"
    }
   ],
   "source": [
    "w * y"
   ]
  },
  {
   "cell_type": "code",
   "execution_count": 13,
   "id": "5e5a8a81-5c61-436e-a185-ef14aa432253",
   "metadata": {},
   "outputs": [
    {
     "data": {
      "text/plain": [
       "100"
      ]
     },
     "execution_count": 13,
     "metadata": {},
     "output_type": "execute_result"
    }
   ],
   "source": [
    "w + x"
   ]
  },
  {
   "cell_type": "code",
   "execution_count": 14,
   "id": "5f18403c-2d47-4cc0-b7c5-80009a4f2b1f",
   "metadata": {},
   "outputs": [
    {
     "data": {
      "text/plain": [
       "100"
      ]
     },
     "execution_count": 14,
     "metadata": {},
     "output_type": "execute_result"
    }
   ],
   "source": [
    "x + 20"
   ]
  },
  {
   "cell_type": "code",
   "execution_count": 15,
   "id": "050b7045-a251-45f6-b537-6e75336f8eab",
   "metadata": {},
   "outputs": [],
   "source": [
    "a = 8.255"
   ]
  },
  {
   "cell_type": "code",
   "execution_count": 16,
   "id": "2b66987e-0510-486b-9725-3e0fc42c30e1",
   "metadata": {},
   "outputs": [],
   "source": [
    "b = 4.315"
   ]
  },
  {
   "cell_type": "code",
   "execution_count": 17,
   "id": "74885ddc-ab56-4a0f-beec-24029bdfe993",
   "metadata": {},
   "outputs": [
    {
     "data": {
      "text/plain": [
       "1.9130938586326767"
      ]
     },
     "execution_count": 17,
     "metadata": {},
     "output_type": "execute_result"
    }
   ],
   "source": [
    "a / b"
   ]
  },
  {
   "cell_type": "code",
   "execution_count": 22,
   "id": "12f8fe94-7410-467f-9f85-36088dceb637",
   "metadata": {},
   "outputs": [],
   "source": [
    "c = 'Meghan '"
   ]
  },
  {
   "cell_type": "code",
   "execution_count": 23,
   "id": "af462fe1-cf08-43b6-8b99-b7f0cb8a72cb",
   "metadata": {},
   "outputs": [],
   "source": [
    "d = 'can '"
   ]
  },
  {
   "cell_type": "code",
   "execution_count": 20,
   "id": "1b20651c-34d3-4d3a-9718-edf1f5d44490",
   "metadata": {},
   "outputs": [],
   "source": [
    "e = 'code!'"
   ]
  },
  {
   "cell_type": "code",
   "execution_count": 24,
   "id": "b3911716-cd57-43a5-a708-02676547c276",
   "metadata": {},
   "outputs": [
    {
     "data": {
      "text/plain": [
       "'Meghan can code!'"
      ]
     },
     "execution_count": 24,
     "metadata": {},
     "output_type": "execute_result"
    }
   ],
   "source": [
    "c + d + e"
   ]
  },
  {
   "cell_type": "code",
   "execution_count": 25,
   "id": "ce8dd709-b910-4989-885e-445cb6a7fef2",
   "metadata": {},
   "outputs": [],
   "source": [
    "f = 'I '"
   ]
  },
  {
   "cell_type": "code",
   "execution_count": 26,
   "id": "0b3b991e-4f99-410e-b309-7111ae34b427",
   "metadata": {},
   "outputs": [],
   "source": [
    "g = 'love '"
   ]
  },
  {
   "cell_type": "code",
   "execution_count": 27,
   "id": "6e6da16c-37e1-4f5a-9273-b1b34b6a1730",
   "metadata": {},
   "outputs": [],
   "source": [
    "h = 'cats!'"
   ]
  },
  {
   "cell_type": "code",
   "execution_count": 28,
   "id": "53fc4bba-a8f8-4b02-ad63-06550dd3fb6f",
   "metadata": {},
   "outputs": [
    {
     "data": {
      "text/plain": [
       "'I love cats!'"
      ]
     },
     "execution_count": 28,
     "metadata": {},
     "output_type": "execute_result"
    }
   ],
   "source": [
    "f + g + h"
   ]
  },
  {
   "cell_type": "code",
   "execution_count": 29,
   "id": "2c60fa9d-6925-4195-a22c-6b36884bc2da",
   "metadata": {},
   "outputs": [
    {
     "data": {
      "text/plain": [
       "'I love cats!I love cats!I love cats!I love cats!I love cats!I love cats!I love cats!I love cats!I love cats!I love cats!I love cats!I love cats!I love cats!I love cats!I love cats!I love cats!I love cats!I love cats!I love cats!I love cats!I love cats!I love cats!I love cats!I love cats!I love cats!I love cats!I love cats!I love cats!I love cats!I love cats!I love cats!I love cats!I love cats!I love cats!I love cats!I love cats!I love cats!I love cats!I love cats!I love cats!I love cats!I love cats!I love cats!I love cats!I love cats!I love cats!I love cats!I love cats!I love cats!I love cats!I love cats!I love cats!I love cats!I love cats!I love cats!I love cats!I love cats!I love cats!I love cats!I love cats!I love cats!I love cats!I love cats!I love cats!I love cats!I love cats!I love cats!I love cats!I love cats!I love cats!I love cats!I love cats!I love cats!I love cats!I love cats!I love cats!I love cats!I love cats!I love cats!I love cats!I love cats!I love cats!I love cats!I love cats!I love cats!I love cats!I love cats!I love cats!I love cats!I love cats!I love cats!I love cats!I love cats!I love cats!I love cats!I love cats!I love cats!I love cats!I love cats!I love cats!'"
      ]
     },
     "execution_count": 29,
     "metadata": {},
     "output_type": "execute_result"
    }
   ],
   "source": [
    "(f + g + h) * 100"
   ]
  },
  {
   "cell_type": "code",
   "execution_count": null,
   "id": "7e403fc8-ff27-4f24-a939-bd61d9d0c710",
   "metadata": {},
   "outputs": [],
   "source": []
  }
 ],
 "metadata": {
  "kernelspec": {
   "display_name": "Python 3 (ipykernel)",
   "language": "python",
   "name": "python3"
  },
  "language_info": {
   "codemirror_mode": {
    "name": "ipython",
    "version": 3
   },
   "file_extension": ".py",
   "mimetype": "text/x-python",
   "name": "python",
   "nbconvert_exporter": "python",
   "pygments_lexer": "ipython3",
   "version": "3.11.7"
  }
 },
 "nbformat": 4,
 "nbformat_minor": 5
}
